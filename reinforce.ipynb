{
 "cells": [
  {
   "cell_type": "code",
   "execution_count": 15,
   "metadata": {},
   "outputs": [],
   "source": [
    "# %load_ext line_profiler\n",
    "# Import the game\n",
    "import gym_super_mario_bros\n",
    "# Import the Joypad wrapper\n",
    "from nes_py.wrappers import JoypadSpace\n",
    "# Import the SIMPLIFIED controls\n",
    "from gym_super_mario_bros.actions import SIMPLE_MOVEMENT\n",
    "import imageio\n",
    "import numpy as np\n",
    "import matplotlib.pyplot as plt\n",
    "import cv2\n",
    "# PyTorch\n",
    "import torch\n",
    "import torch.nn as nn\n",
    "import torch.nn.functional as F\n",
    "import torch.optim as optim\n",
    "from torch.distributions import Categorical\n",
    "\n",
    "from collections import deque\n",
    "\n",
    "from torchvision import transforms as T\n",
    "\n",
    "import gym\n",
    "from gym.spaces import Box\n",
    "from gym.wrappers import FrameStack"
   ]
  },
  {
   "cell_type": "code",
   "execution_count": 16,
   "metadata": {},
   "outputs": [
    {
     "name": "stdout",
     "output_type": "stream",
     "text": [
      "cpu\n"
     ]
    }
   ],
   "source": [
    "device = torch.device(\"cuda:0\" if torch.cuda.is_available() else \"cpu\")\n",
    "print(device)"
   ]
  },
  {
   "cell_type": "code",
   "execution_count": 17,
   "metadata": {},
   "outputs": [],
   "source": [
    "env = gym_super_mario_bros.make(\"SuperMarioBros-v0\", render_mode='rgb_array', apply_api_compatibility=True)\n",
    "env = JoypadSpace(env, SIMPLE_MOVEMENT)\n",
    "\n",
    "env.reset()\n",
    "next_state, reward, done, trunc, info = env.step(action=0)"
   ]
  },
  {
   "cell_type": "code",
   "execution_count": 18,
   "metadata": {},
   "outputs": [],
   "source": [
    "class SkipFrame(gym.Wrapper):\n",
    "    def __init__(self, env, skip):\n",
    "        \"\"\"Return only every `skip`-th frame\"\"\"\n",
    "        super().__init__(env)\n",
    "        self._skip = skip\n",
    "\n",
    "    def step(self, action):\n",
    "        \"\"\"Repeat action, and sum reward\"\"\"\n",
    "        total_reward = 0.0\n",
    "        for i in range(self._skip):\n",
    "            # Accumulate reward and repeat the same action\n",
    "            obs, reward, done, trunk, info = self.env.step(action)\n",
    "            total_reward += reward\n",
    "            if done:\n",
    "                break\n",
    "        return obs, total_reward, done, trunk, info\n",
    "\n",
    "\n",
    "class GrayScaleObservation(gym.ObservationWrapper):\n",
    "    def __init__(self, env):\n",
    "        super().__init__(env)\n",
    "        obs_shape = self.observation_space.shape[:2]\n",
    "        self.observation_space = Box(low=0, high=255, shape=obs_shape, dtype=np.uint8)\n",
    "\n",
    "    def permute_orientation(self, observation):\n",
    "        # permute [H, W, C] array to [C, H, W] tensor\n",
    "        observation = np.transpose(observation, (2, 0, 1))\n",
    "        observation = torch.tensor(observation.copy(), dtype=torch.float)\n",
    "        return observation\n",
    "\n",
    "    def observation(self, observation):\n",
    "        observation = self.permute_orientation(observation)\n",
    "        transform = T.Grayscale()\n",
    "        observation = transform(observation)\n",
    "        return observation\n",
    "\n",
    "\n",
    "class ResizeObservation(gym.ObservationWrapper):\n",
    "    def __init__(self, env, shape):\n",
    "        super().__init__(env)\n",
    "        if isinstance(shape, int):\n",
    "            self.shape = (shape, shape)\n",
    "        else:\n",
    "            self.shape = tuple(shape)\n",
    "\n",
    "        obs_shape = self.shape + self.observation_space.shape[2:]\n",
    "        self.observation_space = Box(low=0, high=255, shape=obs_shape, dtype=np.uint8)\n",
    "\n",
    "    def observation(self, observation):\n",
    "        transforms = T.Compose(\n",
    "            [T.Resize(self.shape), T.Normalize(0, 255)]\n",
    "        )\n",
    "        observation = transforms(observation).squeeze(0)\n",
    "        return observation\n",
    "\n",
    "class CustomRewardWrapper(gym.Wrapper):\n",
    "    def __init__(self, env):\n",
    "        super(CustomRewardWrapper, self).__init__(env)\n",
    "        # self.coin_reward = 10\n",
    "        self.previous_coins = 0\n",
    "        self.previous_score = 0\n",
    "\n",
    "    def step(self, action):\n",
    "        state, reward, done, trunc, info = self.env.step(action)\n",
    "\n",
    "        # if info['coins'] > self.previous_coins:\n",
    "        #     reward += self.coin_reward\n",
    "\n",
    "        # Check for score changes\n",
    "        reward += (info['score'] - self.previous_score)\n",
    "\n",
    "        # Update previous values\n",
    "        # self.previous_coins = info['coins']\n",
    "        self.previous_score = info['score']\n",
    "\n",
    "        return state, reward, done, trunc, info\n",
    "\n",
    "    def reset(self, **kwargs):\n",
    "        # self.previous_coins = 0\n",
    "        self.previous_score = 0\n",
    "        return self.env.reset(**kwargs)\n",
    "\n",
    "\n",
    "# Apply Wrappers to environment\n",
    "env = SkipFrame(env, skip=4)\n",
    "env = GrayScaleObservation(env)\n",
    "env = ResizeObservation(env, shape=84)\n",
    "env = FrameStack(env, num_stack=4)\n",
    "env = CustomRewardWrapper(env)"
   ]
  },
  {
   "cell_type": "code",
   "execution_count": 19,
   "metadata": {},
   "outputs": [
    {
     "name": "stdout",
     "output_type": "stream",
     "text": [
      "(4, 84, 84) (4, 84, 84) 7\n"
     ]
    }
   ],
   "source": [
    "s_size = env.observation_space.shape\n",
    "a_size = env.action_space.n\n",
    "print(env.observation_space.shape, s_size, a_size)"
   ]
  },
  {
   "cell_type": "code",
   "execution_count": 20,
   "metadata": {},
   "outputs": [],
   "source": [
    "class Policy(nn.Module):\n",
    "    def __init__(self, s_size, a_size, h_size):\n",
    "        super(Policy, self).__init__()\n",
    "        # Define the three layers here\n",
    "        # Code Here\n",
    "        self.cnn = self.__build_cnn(4, a_size, h_size)\n",
    "\n",
    "    def forward(self, x):\n",
    "        return self.cnn(x)\n",
    "\n",
    "    def act(self, state):\n",
    "        state = np.array(state)\n",
    "        state = torch.from_numpy(state).float().unsqueeze(0).to(device)\n",
    "        probs = self.forward(state).cpu()\n",
    "        m = Categorical(probs)\n",
    "        action = m.sample()\n",
    "        return action.item(), m.log_prob(action)\n",
    "\n",
    "    def __build_cnn(self, c, output_dim, hidden_dim):\n",
    "        return nn.Sequential(\n",
    "            nn.Conv2d(in_channels=c, out_channels=32, kernel_size=8, stride=4),\n",
    "            nn.ReLU(),\n",
    "            nn.Conv2d(in_channels=32, out_channels=64, kernel_size=4, stride=2),\n",
    "            nn.ReLU(),\n",
    "            nn.Conv2d(in_channels=64, out_channels=64, kernel_size=3, stride=1),\n",
    "            nn.ReLU(),\n",
    "            nn.Flatten(),\n",
    "            nn.Linear(3136, 256),\n",
    "            # nn.Flatten(),\n",
    "            # nn.Linear(1296, hidden_dim),\n",
    "            nn.ReLU(),\n",
    "            nn.Linear(256, 128),\n",
    "            nn.Linear(128, output_dim),\n",
    "            nn.Softmax(dim=1)\n",
    "        )"
   ]
  },
  {
   "cell_type": "code",
   "execution_count": 21,
   "metadata": {},
   "outputs": [],
   "source": [
    "def reinforce(policy, optimizer, n_training_episodes, max_t, gamma, print_every):\n",
    "    scores = []\n",
    "    # Line 3 of pseudocode\n",
    "    for episode in range(n_training_episodes):\n",
    "        log_probs = []\n",
    "        rewards = []\n",
    "        state, _ = env.reset() # Code Here: reset the environment\n",
    "        # Line 4 of pseudocode\n",
    "        while True:\n",
    "            action, log_prob = policy.act(state) # Code Here: get the action\n",
    "            state, reward, done, truncated, info = env.step(action) # Code Here: take an env step\n",
    "            \n",
    "            log_probs.append(log_prob)\n",
    "            rewards.append(reward)\n",
    "\n",
    "            if done:\n",
    "                break\n",
    "        scores.append(sum(rewards))\n",
    "\n",
    "        # Compute returns\n",
    "        returns = []\n",
    "        G = 0\n",
    "        for r in reversed(rewards):\n",
    "            G = r + gamma * G\n",
    "            returns.insert(0, G)\n",
    "        returns = torch.tensor(returns)\n",
    "\n",
    "        ## standardization for training stability\n",
    "        eps = np.finfo(np.float32).eps.item()\n",
    "\n",
    "        ## eps is added to the standard deviation of the returns to avoid numerical instabilities\n",
    "        returns = torch.tensor(returns)\n",
    "        returns = (returns - returns.mean()) / (returns.std() + eps)\n",
    "\n",
    "        # Policy gradient update\n",
    "        policy_loss = []\n",
    "        for log_prob, R in zip(log_probs, returns):\n",
    "            policy_loss.append(-log_prob * R)\n",
    "        policy_loss = torch.stack(policy_loss).sum()\n",
    "\n",
    "        optimizer.zero_grad()\n",
    "        policy_loss.backward()\n",
    "        optimizer.step()\n",
    "\n",
    "        print(f\"Episode {episode+1}/{n_training_episodes}, Total Reward: {sum(rewards)}\")\n",
    "\n",
    "    return scores"
   ]
  },
  {
   "cell_type": "code",
   "execution_count": 22,
   "metadata": {},
   "outputs": [],
   "source": [
    "mario_params = {\n",
    "    \"h_size\": 512,\n",
    "    \"n_training_episodes\": 10,\n",
    "    \"n_evaluation_episodes\": 100,\n",
    "    \"max_t\": 100000,\n",
    "    \"gamma\": 0.99,\n",
    "    \"lr\": 0.001,#1e-4, #0.00025\n",
    "    \"state_space\": s_size,\n",
    "    \"action_space\": a_size,\n",
    "}"
   ]
  },
  {
   "cell_type": "code",
   "execution_count": 23,
   "metadata": {},
   "outputs": [],
   "source": [
    "mario_policy = Policy(mario_params[\"state_space\"], mario_params[\"action_space\"], mario_params[\"h_size\"]).to(device)\n",
    "mario_optimizer = optim.Adam(mario_policy.parameters(), lr=mario_params[\"lr\"])"
   ]
  },
  {
   "cell_type": "code",
   "execution_count": 24,
   "metadata": {},
   "outputs": [
    {
     "name": "stderr",
     "output_type": "stream",
     "text": [
      "/var/folders/l3/zflq6mt5639g0h00w52sq__00000gn/T/ipykernel_1189/4172923039.py:32: UserWarning: To copy construct from a tensor, it is recommended to use sourceTensor.clone().detach() or sourceTensor.clone().detach().requires_grad_(True), rather than torch.tensor(sourceTensor).\n",
      "  returns = torch.tensor(returns)\n"
     ]
    },
    {
     "name": "stdout",
     "output_type": "stream",
     "text": [
      "Episode 1/10, Total Reward: 1795.0\n",
      "Episode 2/10, Total Reward: 2485.0\n",
      "Episode 3/10, Total Reward: 1974.0\n",
      "Episode 4/10, Total Reward: 1781.0\n",
      "Episode 5/10, Total Reward: 2873.0\n",
      "Episode 6/10, Total Reward: 3828.0\n",
      "Episode 7/10, Total Reward: 2035.0\n",
      "Episode 8/10, Total Reward: 3144.0\n",
      "Episode 9/10, Total Reward: 2945.0\n",
      "Episode 10/10, Total Reward: 2574.0\n"
     ]
    }
   ],
   "source": [
    "# %lprun -f reinforce reinforce(mario_policy, mario_optimizer, mario_params[\"n_training_episodes\"], mario_params[\"max_t\"], mario_params[\"gamma\"], 1)\n",
    "scores = reinforce(mario_policy,\n",
    "                   mario_optimizer,\n",
    "                   mario_params[\"n_training_episodes\"],\n",
    "                   mario_params[\"max_t\"],\n",
    "                   mario_params[\"gamma\"],\n",
    "                   10)"
   ]
  },
  {
   "cell_type": "code",
   "execution_count": 25,
   "metadata": {},
   "outputs": [],
   "source": [
    "def record_video(env, policy, out_directory, fps=30, max_frames = 100000):\n",
    "  images = []\n",
    "  done = False\n",
    "  state, _ = env.reset()\n",
    "  frame_counter = 0\n",
    "  while not done and frame_counter < max_frames:\n",
    "    action, _ = policy.act(state)\n",
    "    state, reward, done, tunc, info = env.step(action)\n",
    "    img = env.render()\n",
    "    x = img.copy()\n",
    "    images.append(x)\n",
    "    frame_counter += 1\n",
    "  imageio.mimsave(out_directory, [np.array(img) for img in images], fps=fps)"
   ]
  },
  {
   "cell_type": "code",
   "execution_count": 26,
   "metadata": {},
   "outputs": [],
   "source": [
    "record_video(env, mario_policy, './replay.mp4', 30)"
   ]
  },
  {
   "cell_type": "code",
   "execution_count": 27,
   "metadata": {},
   "outputs": [
    {
     "data": {
      "text/plain": [
       "[<matplotlib.lines.Line2D at 0x17cbf03d0>]"
      ]
     },
     "execution_count": 27,
     "metadata": {},
     "output_type": "execute_result"
    },
    {
     "data": {
      "image/png": "[encoded data removed]",
      "text/plain": [
       "<Figure size 640x480 with 1 Axes>"
      ]
     },
     "metadata": {},
     "output_type": "display_data"
    }
   ],
   "source": [
    "plt.plot(scores)"
   ]
  }
 ],
 "metadata": {
  "kernelspec": {
   "display_name": "cs175",
   "language": "python",
   "name": "python3"
  },
  "language_info": {
   "codemirror_mode": {
    "name": "ipython",
    "version": 3
   },
   "file_extension": ".py",
   "mimetype": "text/x-python",
   "name": "python",
   "nbconvert_exporter": "python",
   "pygments_lexer": "ipython3",
   "version": "3.11.5"
  }
 },
 "nbformat": 4,
 "nbformat_minor": 2
}
