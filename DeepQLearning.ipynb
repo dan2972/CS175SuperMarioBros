{
 "cells": [
  {
   "cell_type": "code",
   "execution_count": 2,
   "metadata": {
    "tags": []
   },
   "outputs": [],
   "source": [
    "%load_ext line_profiler\n",
    "# Import the game\n",
    "import gym_super_mario_bros\n",
    "# Import the Joypad wrapper\n",
    "from nes_py.wrappers import JoypadSpace\n",
    "# Import the SIMPLIFIED controls\n",
    "from gym_super_mario_bros.actions import SIMPLE_MOVEMENT\n",
    "import imageio\n",
    "import numpy as np\n",
    "import matplotlib.pyplot as plt\n",
    "import cv2\n",
    "# PyTorch\n",
    "import torch\n",
    "import torch.nn as nn\n",
    "import torch.nn.functional as F\n",
    "import torch.optim as optim\n",
    "from torch.distributions import Categorical\n",
    "\n",
    "from collections import deque\n",
    "\n",
    "from torchvision import transforms as T\n",
    "\n",
    "import gym\n",
    "from gym.spaces import Box\n",
    "from gym.wrappers import FrameStack"
   ]
  },
  {
   "cell_type": "code",
   "execution_count": 3,
   "metadata": {
    "tags": []
   },
   "outputs": [
    {
     "name": "stdout",
     "output_type": "stream",
     "text": [
      "cpu\n"
     ]
    }
   ],
   "source": [
    "device = torch.device(\"cuda:0\" if torch.cuda.is_available() else \"cpu\")\n",
    "print(device)"
   ]
  },
  {
   "cell_type": "code",
   "execution_count": 4,
   "metadata": {
    "tags": []
   },
   "outputs": [
    {
     "name": "stderr",
     "output_type": "stream",
     "text": [
      "/Users/suvir/anaconda3/lib/python3.11/site-packages/gym/envs/registration.py:555: UserWarning: \u001b[33mWARN: The environment SuperMarioBros-v0 is out of date. You should consider upgrading to version `v3`.\u001b[0m\n",
      "  logger.warn(\n",
      "/Users/suvir/anaconda3/lib/python3.11/site-packages/gym/envs/registration.py:627: UserWarning: \u001b[33mWARN: The environment creator metadata doesn't include `render_modes`, contains: ['render.modes', 'video.frames_per_second']\u001b[0m\n",
      "  logger.warn(\n",
      "/Users/suvir/anaconda3/lib/python3.11/site-packages/gym/utils/passive_env_checker.py:233: DeprecationWarning: `np.bool8` is a deprecated alias for `np.bool_`.  (Deprecated NumPy 1.24)\n",
      "  if not isinstance(terminated, (bool, np.bool8)):\n"
     ]
    }
   ],
   "source": [
    "env = gym_super_mario_bros.make(\"SuperMarioBros-v0\", render_mode='rgb_array', apply_api_compatibility=True)\n",
    "env = JoypadSpace(env, SIMPLE_MOVEMENT)\n",
    "\n",
    "env.reset()\n",
    "next_state, reward, done, trunc, info = env.step(action=0)"
   ]
  },
  {
   "cell_type": "code",
   "execution_count": 5,
   "metadata": {
    "tags": []
   },
   "outputs": [],
   "source": [
    "class SkipFrame(gym.Wrapper):\n",
    "    def __init__(self, env, skip):\n",
    "        \"\"\"Return only every `skip`-th frame\"\"\"\n",
    "        super().__init__(env)\n",
    "        self._skip = skip\n",
    "\n",
    "    def step(self, action):\n",
    "        \"\"\"Repeat action, and sum reward\"\"\"\n",
    "        total_reward = 0.0\n",
    "        for i in range(self._skip):\n",
    "            # Accumulate reward and repeat the same action\n",
    "            obs, reward, done, trunk, info = self.env.step(action)\n",
    "            total_reward += reward\n",
    "            if done:\n",
    "                break\n",
    "        return obs, total_reward, done, trunk, info\n",
    "\n",
    "\n",
    "class GrayScaleObservation(gym.ObservationWrapper):\n",
    "    def __init__(self, env):\n",
    "        super().__init__(env)\n",
    "        obs_shape = self.observation_space.shape[:2]\n",
    "        self.observation_space = Box(low=0, high=255, shape=obs_shape, dtype=np.uint8)\n",
    "\n",
    "    def permute_orientation(self, observation):\n",
    "        # permute [H, W, C] array to [C, H, W] tensor\n",
    "        observation = np.transpose(observation, (2, 0, 1))\n",
    "        observation = torch.tensor(observation.copy(), dtype=torch.float)\n",
    "        return observation\n",
    "\n",
    "    def observation(self, observation):\n",
    "        observation = self.permute_orientation(observation)\n",
    "        transform = T.Grayscale()\n",
    "        observation = transform(observation)\n",
    "        return observation\n",
    "\n",
    "\n",
    "class ResizeObservation(gym.ObservationWrapper):\n",
    "    def __init__(self, env, shape):\n",
    "        super().__init__(env)\n",
    "        if isinstance(shape, int):\n",
    "            self.shape = (shape, shape)\n",
    "        else:\n",
    "            self.shape = tuple(shape)\n",
    "\n",
    "        obs_shape = self.shape + self.observation_space.shape[2:]\n",
    "        self.observation_space = Box(low=0, high=255, shape=obs_shape, dtype=np.uint8)\n",
    "\n",
    "    def observation(self, observation):\n",
    "        transforms = T.Compose(\n",
    "            [T.Resize(self.shape, antialias=True), T.Normalize(0, 255)]\n",
    "        )\n",
    "        observation = transforms(observation).squeeze(0)\n",
    "        return observation\n",
    "\n",
    "\n",
    "# Apply Wrappers to environment\n",
    "env = SkipFrame(env, skip=4)\n",
    "env = GrayScaleObservation(env)\n",
    "env = ResizeObservation(env, shape=84)\n",
    "env = FrameStack(env, num_stack=4)"
   ]
  },
  {
   "cell_type": "code",
   "execution_count": 6,
   "metadata": {
    "tags": []
   },
   "outputs": [
    {
     "name": "stdout",
     "output_type": "stream",
     "text": [
      "(4, 84, 84) (4, 84, 84) 7\n"
     ]
    }
   ],
   "source": [
    "s_size = env.observation_space.shape\n",
    "a_size = env.action_space.n\n",
    "print(env.observation_space.shape, s_size, a_size)"
   ]
  },
  {
   "cell_type": "code",
   "execution_count": 7,
   "metadata": {
    "tags": []
   },
   "outputs": [],
   "source": [
    "class Policy(nn.Module):\n",
    "    def __init__(self, s_size, a_size, h_size):\n",
    "        super(Policy, self).__init__()\n",
    "        # Define the three layers here\n",
    "        # Code Here\n",
    "        self.cnn = self.__build_cnn(4, a_size, h_size)\n",
    "\n",
    "    def forward(self, x):\n",
    "        # Define the forward process here (with ReLU activation for the first 2 layers)\n",
    "        # x -> fc1 -> ReLU -> fc2 -> ReLU -> fc3\n",
    "        # Code Here\n",
    "        # x = torch.relu(self.fc1(x))\n",
    "        # x = torch.relu(self.fc2(x))\n",
    "        # x = self.fc3(x)\n",
    "\n",
    "        # We output the softmax\n",
    "        return F.softmax(self.cnn(x), dim=1)\n",
    "\n",
    "    def act(self, state):\n",
    "        state = np.array(state)\n",
    "        state = torch.from_numpy(state).float().unsqueeze(0).to(device)\n",
    "        probs = self.forward(state).cpu()\n",
    "        m = Categorical(probs)\n",
    "        action = m.sample()\n",
    "        return action.item(), m.log_prob(action)\n",
    "\n",
    "    def __build_cnn(self, c, output_dim, hidden_dim):\n",
    "        return nn.Sequential(\n",
    "            nn.Conv2d(in_channels=c, out_channels=32, kernel_size=8, stride=4),\n",
    "            nn.ReLU(),\n",
    "            nn.Conv2d(in_channels=32, out_channels=64, kernel_size=4, stride=2),\n",
    "            nn.ReLU(),\n",
    "            nn.Conv2d(in_channels=64, out_channels=64, kernel_size=3, stride=1),\n",
    "            nn.ReLU(),\n",
    "            nn.Flatten(),\n",
    "            nn.Linear(3136, hidden_dim),\n",
    "            # nn.Flatten(),\n",
    "            # nn.Linear(1296, hidden_dim),\n",
    "            nn.ReLU(),\n",
    "            nn.Linear(hidden_dim, output_dim),\n",
    "        )"
   ]
  },
  {
   "cell_type": "code",
   "execution_count": 8,
   "metadata": {
    "tags": []
   },
   "outputs": [],
   "source": [
    "def reinforce(policy, optimizer, n_training_episodes, max_t, gamma, print_every):\n",
    "    # Help us to calculate the score during the training\n",
    "    scores_deque = deque(maxlen=min(print_every, 100))\n",
    "    scores = []\n",
    "    # Line 3 of pseudocode\n",
    "    for i_episode in range(1, n_training_episodes+1):\n",
    "        saved_log_probs = []\n",
    "        rewards = []\n",
    "        state, _ = env.reset() # Code Here: reset the environment\n",
    "        # Line 4 of pseudocode\n",
    "        for t in range(max_t):\n",
    "            action, log_prob = policy.act(state) # Code Here: get the action\n",
    "            saved_log_probs.append(log_prob)\n",
    "            state, reward, done, truncated, info = env.step(action) # Code Here: take an env step\n",
    "            rewards.append(reward)\n",
    "            if done:\n",
    "                break\n",
    "        print(f'finished run {i_episode}')\n",
    "        scores_deque.append(sum(rewards))\n",
    "        scores.append(sum(rewards))\n",
    "\n",
    "        # Line 6 of pseudocode: calculate the return\n",
    "        returns = deque(maxlen=max_t)\n",
    "        n_steps = len(rewards)\n",
    "\n",
    "        # Compute the discounted returns at each timestep,\n",
    "        # as the sum of the gamma-discounted return at time t (G_t) + the reward at time t\n",
    "\n",
    "        ## We compute this starting from the last timestep to the first, to avoid redundant computations\n",
    "\n",
    "        ## appendleft() function of queues appends to the position 0\n",
    "        ## We use deque instead of lists to reduce the time complexity\n",
    "\n",
    "        for t in range(n_steps)[::-1]:\n",
    "            disc_return_t = (returns[0] if len(returns)>0 else 0)\n",
    "            returns.appendleft(rewards[t] + gamma * disc_return_t) # Code Here: complete here\n",
    "\n",
    "        ## standardization for training stability\n",
    "        eps = np.finfo(np.float32).eps.item()\n",
    "\n",
    "        ## eps is added to the standard deviation of the returns to avoid numerical instabilities\n",
    "        returns = torch.tensor(returns)\n",
    "        returns = (returns - returns.mean()) / (returns.std() + eps)\n",
    "\n",
    "        # Line 7:\n",
    "        policy_loss = []\n",
    "        for log_prob, disc_return in zip(saved_log_probs, returns):\n",
    "            policy_loss.append(-log_prob * disc_return)\n",
    "        policy_loss = torch.cat(policy_loss).sum()\n",
    "\n",
    "        # Line 8: PyTorch prefers gradient descent\n",
    "        optimizer.zero_grad()\n",
    "        policy_loss.backward()\n",
    "        optimizer.step()\n",
    "\n",
    "        if i_episode % print_every == 0:\n",
    "            print('Episode {}\\tAverage Score: {:.2f}'.format(i_episode, np.mean(scores_deque)))\n",
    "\n",
    "    return scores"
   ]
  },
  {
   "cell_type": "code",
   "execution_count": 9,
   "metadata": {
    "tags": []
   },
   "outputs": [],
   "source": [
    "class AgentNN(nn.Module):\n",
    "    def __init__(self, input_shape, n_actions, freeze=False):\n",
    "        super().__init__()\n",
    "        # Conolutional layers\n",
    "        self.conv_layers = nn.Sequential(\n",
    "            nn.Conv2d(input_shape[0], 32, kernel_size=8, stride=4),\n",
    "            nn.ReLU(),\n",
    "            nn.Conv2d(32, 64, kernel_size=4, stride=2),\n",
    "            nn.ReLU(),\n",
    "            nn.Conv2d(64, 64, kernel_size=3, stride=1),\n",
    "            nn.ReLU(),\n",
    "        )\n",
    "\n",
    "        conv_out_size = self._get_conv_out(input_shape)\n",
    "\n",
    "        # Linear layers\n",
    "        self.network = nn.Sequential(\n",
    "            self.conv_layers,\n",
    "            nn.Flatten(),\n",
    "            nn.Linear(conv_out_size, 512),\n",
    "            nn.ReLU(),\n",
    "            nn.Linear(512, n_actions)\n",
    "        )\n",
    "\n",
    "        if freeze:\n",
    "            self._freeze()\n",
    "        \n",
    "        self.device = 'cuda' if torch.cuda.is_available() else 'cpu'\n",
    "        self.to(self.device)\n",
    "\n",
    "    def forward(self, x):\n",
    "        return self.network(x)\n",
    "\n",
    "    def _get_conv_out(self, shape):\n",
    "        o = self.conv_layers(torch.zeros(1, *shape))\n",
    "        # np.prod returns the product of array elements over a given axis\n",
    "        return int(np.prod(o.size()))\n",
    "    \n",
    "    def _freeze(self):        \n",
    "        for p in self.network.parameters():\n",
    "            p.requires_grad = False"
   ]
  },
  {
   "cell_type": "code",
   "execution_count": 10,
   "metadata": {
    "tags": []
   },
   "outputs": [
    {
     "name": "stdout",
     "output_type": "stream",
     "text": [
      "Requirement already satisfied: tensordict in /Users/suvir/anaconda3/lib/python3.11/site-packages (0.2.1)\n",
      "Requirement already satisfied: torch in /Users/suvir/anaconda3/lib/python3.11/site-packages (from tensordict) (2.1.1)\n",
      "Requirement already satisfied: numpy in /Users/suvir/anaconda3/lib/python3.11/site-packages (from tensordict) (1.24.3)\n",
      "Requirement already satisfied: cloudpickle in /Users/suvir/anaconda3/lib/python3.11/site-packages (from tensordict) (2.2.1)\n",
      "Requirement already satisfied: filelock in /Users/suvir/anaconda3/lib/python3.11/site-packages (from torch->tensordict) (3.9.0)\n",
      "Requirement already satisfied: typing-extensions in /Users/suvir/anaconda3/lib/python3.11/site-packages (from torch->tensordict) (4.7.1)\n",
      "Requirement already satisfied: sympy in /Users/suvir/anaconda3/lib/python3.11/site-packages (from torch->tensordict) (1.11.1)\n",
      "Requirement already satisfied: networkx in /Users/suvir/anaconda3/lib/python3.11/site-packages (from torch->tensordict) (3.1)\n",
      "Requirement already satisfied: jinja2 in /Users/suvir/anaconda3/lib/python3.11/site-packages (from torch->tensordict) (3.1.2)\n",
      "Requirement already satisfied: fsspec in /Users/suvir/anaconda3/lib/python3.11/site-packages (from torch->tensordict) (2023.4.0)\n",
      "Requirement already satisfied: MarkupSafe>=2.0 in /Users/suvir/anaconda3/lib/python3.11/site-packages (from jinja2->torch->tensordict) (2.1.1)\n",
      "Requirement already satisfied: mpmath>=0.19 in /Users/suvir/anaconda3/lib/python3.11/site-packages (from sympy->torch->tensordict) (1.3.0)\n",
      "Requirement already satisfied: torchrl in /Users/suvir/anaconda3/lib/python3.11/site-packages (0.2.1)\n",
      "Requirement already satisfied: torch>=2.1.0 in /Users/suvir/anaconda3/lib/python3.11/site-packages (from torchrl) (2.1.1)\n",
      "Requirement already satisfied: numpy in /Users/suvir/anaconda3/lib/python3.11/site-packages (from torchrl) (1.24.3)\n",
      "Requirement already satisfied: packaging in /Users/suvir/anaconda3/lib/python3.11/site-packages (from torchrl) (23.1)\n",
      "Requirement already satisfied: cloudpickle in /Users/suvir/anaconda3/lib/python3.11/site-packages (from torchrl) (2.2.1)\n",
      "Requirement already satisfied: tensordict>=0.2.0 in /Users/suvir/anaconda3/lib/python3.11/site-packages (from torchrl) (0.2.1)\n",
      "Requirement already satisfied: filelock in /Users/suvir/anaconda3/lib/python3.11/site-packages (from torch>=2.1.0->torchrl) (3.9.0)\n",
      "Requirement already satisfied: typing-extensions in /Users/suvir/anaconda3/lib/python3.11/site-packages (from torch>=2.1.0->torchrl) (4.7.1)\n",
      "Requirement already satisfied: sympy in /Users/suvir/anaconda3/lib/python3.11/site-packages (from torch>=2.1.0->torchrl) (1.11.1)\n",
      "Requirement already satisfied: networkx in /Users/suvir/anaconda3/lib/python3.11/site-packages (from torch>=2.1.0->torchrl) (3.1)\n",
      "Requirement already satisfied: jinja2 in /Users/suvir/anaconda3/lib/python3.11/site-packages (from torch>=2.1.0->torchrl) (3.1.2)\n",
      "Requirement already satisfied: fsspec in /Users/suvir/anaconda3/lib/python3.11/site-packages (from torch>=2.1.0->torchrl) (2023.4.0)\n",
      "Requirement already satisfied: MarkupSafe>=2.0 in /Users/suvir/anaconda3/lib/python3.11/site-packages (from jinja2->torch>=2.1.0->torchrl) (2.1.1)\n",
      "Requirement already satisfied: mpmath>=0.19 in /Users/suvir/anaconda3/lib/python3.11/site-packages (from sympy->torch>=2.1.0->torchrl) (1.3.0)\n"
     ]
    }
   ],
   "source": [
    "!pip install tensordict\n",
    "!pip install torchrl\n",
    "from tensordict import TensorDict\n",
    "from torchrl.data import TensorDictReplayBuffer, LazyMemmapStorage"
   ]
  },
  {
   "cell_type": "code",
   "execution_count": 11,
   "metadata": {
    "tags": []
   },
   "outputs": [],
   "source": [
    "class Agent:\n",
    "    def __init__(self, \n",
    "                 input_dims, \n",
    "                 num_actions, \n",
    "                 lr=0.00025, \n",
    "                 gamma=0.9, \n",
    "                 epsilon=1.0, \n",
    "                 eps_decay=0.99999975, \n",
    "                 eps_min=0.1, \n",
    "                 replay_buffer_capacity=100_000, \n",
    "                 batch_size=32, \n",
    "                 sync_network_rate=10000):\n",
    "        \n",
    "        self.num_actions = num_actions\n",
    "        self.learn_step_counter = 0\n",
    "\n",
    "        # Hyperparameters\n",
    "        self.lr = lr\n",
    "        self.gamma = gamma\n",
    "        self.epsilon = epsilon\n",
    "        self.eps_decay = eps_decay\n",
    "        self.eps_min = eps_min\n",
    "        self.batch_size = batch_size\n",
    "        self.sync_network_rate = sync_network_rate\n",
    "\n",
    "        # Networks\n",
    "        self.online_network = AgentNN(input_dims, num_actions)\n",
    "        self.target_network = AgentNN(input_dims, num_actions, freeze=True)\n",
    "\n",
    "        # Optimizer and loss\n",
    "        self.optimizer = torch.optim.Adam(self.online_network.parameters(), lr=self.lr)\n",
    "        self.loss = torch.nn.MSELoss()\n",
    "        # self.loss = torch.nn.SmoothL1Loss() # Feel free to try this loss function instead!\n",
    "\n",
    "        # Replay buffer\n",
    "        storage = LazyMemmapStorage(replay_buffer_capacity)\n",
    "        self.replay_buffer = TensorDictReplayBuffer(storage=storage)\n",
    "\n",
    "    def choose_action(self, observation):\n",
    "        if np.random.random() < self.epsilon:\n",
    "            return np.random.randint(self.num_actions)\n",
    "        # Passing in a list of numpy arrays is slower than creating a tensor from a numpy array\n",
    "        # Hence the `np.array(observation)` instead of `observation`\n",
    "        # observation is a LIST of numpy arrays because of the LazyFrame wrapper\n",
    "        # Unqueeze adds a dimension to the tensor, which represents the batch dimension\n",
    "        observation = torch.tensor(np.array(observation), dtype=torch.float32) \\\n",
    "                        .unsqueeze(0) \\\n",
    "                        .to(self.online_network.device)\n",
    "        # Grabbing the index of the action that's associated with the highest Q-value\n",
    "        return self.online_network(observation).argmax().item()\n",
    "    \n",
    "    def decay_epsilon(self):\n",
    "        self.epsilon = max(self.epsilon * self.eps_decay, self.eps_min)\n",
    "\n",
    "    def store_in_memory(self, state, action, reward, next_state, done):\n",
    "        self.replay_buffer.add(TensorDict({\n",
    "                                            \"state\": torch.tensor(np.array(state), dtype=torch.float32), \n",
    "                                            \"action\": torch.tensor(action),\n",
    "                                            \"reward\": torch.tensor(reward), \n",
    "                                            \"next_state\": torch.tensor(np.array(next_state), dtype=torch.float32), \n",
    "                                            \"done\": torch.tensor(done)\n",
    "                                          }, batch_size=[]))\n",
    "        \n",
    "    def sync_networks(self):\n",
    "        if self.learn_step_counter % self.sync_network_rate == 0 and self.learn_step_counter > 0:\n",
    "            self.target_network.load_state_dict(self.online_network.state_dict())\n",
    "\n",
    "    def save_model(self, path):\n",
    "        torch.save(self.online_network.state_dict(), path)\n",
    "\n",
    "    def load_model(self, path):\n",
    "        self.online_network.load_state_dict(torch.load(path))\n",
    "        self.target_network.load_state_dict(torch.load(path))\n",
    "\n",
    "    def learn(self):\n",
    "        if len(self.replay_buffer) < self.batch_size:\n",
    "            return\n",
    "        \n",
    "        self.sync_networks()\n",
    "        \n",
    "        self.optimizer.zero_grad()\n",
    "\n",
    "        samples = self.replay_buffer.sample(self.batch_size).to(self.online_network.device)\n",
    "\n",
    "        keys = (\"state\", \"action\", \"reward\", \"next_state\", \"done\")\n",
    "\n",
    "        states, actions, rewards, next_states, dones = [samples[key] for key in keys]\n",
    "\n",
    "        predicted_q_values = self.online_network(states) # Shape is (batch_size, n_actions)\n",
    "        predicted_q_values = predicted_q_values[np.arange(self.batch_size), actions.squeeze()]\n",
    "\n",
    "        # Max returns two tensors, the first one is the maximum value, the second one is the index of the maximum value\n",
    "        target_q_values = self.target_network(next_states).max(dim=1)[0]\n",
    "        # The rewards of any future states don't matter if the current state is a terminal state\n",
    "        # If done is true, then 1 - done is 0, so the part after the plus sign (representing the future rewards) is 0\n",
    "        target_q_values = rewards + self.gamma * target_q_values * (1 - dones.float())\n",
    "\n",
    "        loss = self.loss(predicted_q_values, target_q_values)\n",
    "        loss.backward()\n",
    "        self.optimizer.step()\n",
    "\n",
    "        self.learn_step_counter += 1\n",
    "        self.decay_epsilon()\n"
   ]
  },
  {
   "cell_type": "code",
   "execution_count": 12,
   "metadata": {
    "tags": []
   },
   "outputs": [],
   "source": [
    "agent = Agent(input_dims=env.observation_space.shape, num_actions=env.action_space.n)"
   ]
  },
  {
   "cell_type": "code",
   "execution_count": null,
   "metadata": {
    "tags": []
   },
   "outputs": [
    {
     "name": "stdout",
     "output_type": "stream",
     "text": [
      "Episode: 0\n",
      "Total reward: 638.0 Epsilon: 0.9999707504241168 Size of replay buffer: 148 Learn step counter: 117\n",
      "Total reward: 638.0\n",
      "Episode: 1\n",
      "Total reward: 1799.0 Epsilon: 0.9995456032126282 Size of replay buffer: 1849 Learn step counter: 1818\n",
      "Total reward: 1799.0\n",
      "Episode: 2\n",
      "Total reward: 1580.0 Epsilon: 0.9994271640614847 Size of replay buffer: 2323 Learn step counter: 2292\n",
      "Total reward: 1580.0\n",
      "Episode: 3\n",
      "Total reward: 1599.0 Epsilon: 0.9991068989405528 Size of replay buffer: 3605 Learn step counter: 3574\n",
      "Total reward: 1599.0\n",
      "Episode: 4\n",
      "Total reward: 1773.0 Epsilon: 0.9987705062935295 Size of replay buffer: 4952 Learn step counter: 4921\n",
      "Total reward: 1773.0\n",
      "Episode: 5\n",
      "Total reward: 1602.0 Epsilon: 0.9986616462277024 Size of replay buffer: 5388 Learn step counter: 5357\n",
      "Total reward: 1602.0\n",
      "Episode: 6\n",
      "Total reward: 977.0 Epsilon: 0.9982390520708483 Size of replay buffer: 7081 Learn step counter: 7050\n",
      "Total reward: 977.0\n",
      "Episode: 7\n",
      "Total reward: 1053.0 Epsilon: 0.998181654968354 Size of replay buffer: 7311 Learn step counter: 7280\n",
      "Total reward: 1053.0\n",
      "Episode: 8\n",
      "Total reward: 1984.0 Epsilon: 0.9978096520462624 Size of replay buffer: 8802 Learn step counter: 8771\n",
      "Total reward: 1984.0\n",
      "Episode: 9\n",
      "Total reward: 1844.0 Epsilon: 0.9976946610959545 Size of replay buffer: 9263 Learn step counter: 9232\n",
      "Total reward: 1844.0\n",
      "Episode: 10\n",
      "Total reward: 1540.0 Epsilon: 0.997517585987332 Size of replay buffer: 9973 Learn step counter: 9942\n",
      "Total reward: 1540.0\n",
      "Episode: 11\n"
     ]
    }
   ],
   "source": [
    "SHOULD_TRAIN = True\n",
    "DISPLAY = True\n",
    "CKPT_SAVE_INTERVAL = 5000\n",
    "NUM_OF_EPISODES = 50_000\n",
    "\n",
    "SHOULD_TRAIN = True\n",
    "env.reset()\n",
    "next_state, reward, done, trunc, info = env.step(action=0)\n",
    "\n",
    "for i in range(NUM_OF_EPISODES):    \n",
    "    print(\"Episode:\", i)\n",
    "    done = False\n",
    "    state, _ = env.reset()\n",
    "    total_reward = 0\n",
    "    while not done:\n",
    "        a = agent.choose_action(state)\n",
    "        new_state, reward, done, truncated, info  = env.step(a)\n",
    "        total_reward += reward\n",
    "\n",
    "        if SHOULD_TRAIN:\n",
    "            agent.store_in_memory(state, a, reward, new_state, done)\n",
    "            agent.learn()\n",
    "\n",
    "        state = new_state\n",
    "\n",
    "    print(\"Total reward:\", total_reward, \"Epsilon:\", agent.epsilon, \"Size of replay buffer:\", len(agent.replay_buffer), \"Learn step counter:\", agent.learn_step_counter)\n",
    "\n",
    "    if SHOULD_TRAIN and (i + 1) % CKPT_SAVE_INTERVAL == 0:\n",
    "        agent.save_model(os.path.join(model_path, \"model_\" + str(i + 1) + \"_iter.pt\"))\n",
    "\n",
    "    print(\"Total reward:\", total_reward)\n",
    "\n",
    "env.close()"
   ]
  },
  {
   "cell_type": "code",
   "execution_count": null,
   "metadata": {
    "tags": []
   },
   "outputs": [],
   "source": [
    "mario_params = {\n",
    "    \"h_size\": 512,\n",
    "    \"n_training_episodes\": 1000,\n",
    "    \"n_evaluation_episodes\": 10,\n",
    "    \"max_t\": 10000,\n",
    "    \"gamma\": 0.99,\n",
    "    \"lr\": 0.00025,#1e-4,\n",
    "    \"state_space\": s_size,\n",
    "    \"action_space\": a_size,\n",
    "}"
   ]
  },
  {
   "cell_type": "code",
   "execution_count": null,
   "metadata": {
    "tags": []
   },
   "outputs": [],
   "source": [
    "mario_policy = Policy(mario_params[\"state_space\"], mario_params[\"action_space\"], mario_params[\"h_size\"]).to(device)\n",
    "mario_optimizer = optim.Adam(mario_policy.parameters(), lr=mario_params[\"lr\"])"
   ]
  },
  {
   "cell_type": "code",
   "execution_count": null,
   "metadata": {
    "tags": []
   },
   "outputs": [],
   "source": [
    "# %lprun -f reinforce reinforce(mario_policy, mario_optimizer, mario_params[\"n_training_episodes\"], mario_params[\"max_t\"], mario_params[\"gamma\"], 1)\n",
    "scores = reinforce(mario_policy,\n",
    "                   mario_optimizer,\n",
    "                   mario_params[\"n_training_episodes\"],\n",
    "                   mario_params[\"max_t\"],\n",
    "                   mario_params[\"gamma\"],\n",
    "                   10)"
   ]
  },
  {
   "cell_type": "code",
   "execution_count": 14,
   "metadata": {},
   "outputs": [],
   "source": [
    "def record_video(env, policy, out_directory, fps=30, max_frames = 1000):\n",
    "  images = []\n",
    "  done = False\n",
    "  state, _ = env.reset()\n",
    "  frame_counter = 0\n",
    "  while not done and frame_counter < max_frames:\n",
    "    action, _ = policy.act(state)\n",
    "    state, reward, done, tunc, info = env.step(action)\n",
    "    img = env.render()\n",
    "    x = img.copy()\n",
    "    images.append(x)\n",
    "    frame_counter += 1\n",
    "  imageio.mimsave(out_directory, [np.array(img) for img in images], fps=fps)"
   ]
  },
  {
   "cell_type": "code",
   "execution_count": 15,
   "metadata": {},
   "outputs": [],
   "source": [
    "record_video(env, mario_policy, './replay.mp4', 30)"
   ]
  },
  {
   "cell_type": "code",
   "execution_count": 13,
   "metadata": {},
   "outputs": [
    {
     "data": {
      "text/plain": [
       "[<matplotlib.lines.Line2D at 0x2644eb7b190>]"
      ]
     },
     "execution_count": 13,
     "metadata": {},
     "output_type": "execute_result"
    },
    {
     "data": {
      "image/png": "[encoded data removed]",
      "text/plain": [
       "<Figure size 640x480 with 1 Axes>"
      ]
     },
     "metadata": {},
     "output_type": "display_data"
    }
   ],
   "source": [
    "plt.plot(scores)"
   ]
  },
  {
   "cell_type": "code",
   "execution_count": null,
   "metadata": {},
   "outputs": [],
   "source": []
  }
 ],
 "metadata": {
  "kernelspec": {
   "display_name": "Python 3 (ipykernel)",
   "language": "python",
   "name": "python3"
  },
  "language_info": {
   "codemirror_mode": {
    "name": "ipython",
    "version": 3
   },
   "file_extension": ".py",
   "mimetype": "text/x-python",
   "name": "python",
   "nbconvert_exporter": "python",
   "pygments_lexer": "ipython3",
   "version": "3.11.5"
  },
  "vscode": {
   "interpreter": {
    "hash": "fd3e7b61dc29c4b845aaa72ddff119eda7863afce9a5fe12a36f4aae86967bb8"
   }
  }
 },
 "nbformat": 4,
 "nbformat_minor": 4
}
